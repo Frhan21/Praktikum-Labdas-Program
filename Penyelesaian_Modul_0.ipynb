{
  "nbformat": 4,
  "nbformat_minor": 0,
  "metadata": {
    "colab": {
      "provenance": [],
      "authorship_tag": "ABX9TyOUw0S23nN+WugimmuIAiUl",
      "include_colab_link": true
    },
    "kernelspec": {
      "name": "python3",
      "display_name": "Python 3"
    },
    "language_info": {
      "name": "python"
    }
  },
  "cells": [
    {
      "cell_type": "markdown",
      "metadata": {
        "id": "view-in-github",
        "colab_type": "text"
      },
      "source": [
        "<a href=\"https://colab.research.google.com/github/Frhan21/Praktikum-Labdas-Program/blob/main/Penyelesaian_Modul_0.ipynb\" target=\"_parent\"><img src=\"https://colab.research.google.com/assets/colab-badge.svg\" alt=\"Open In Colab\"/></a>"
      ]
    },
    {
      "cell_type": "code",
      "execution_count": 70,
      "metadata": {
        "colab": {
          "base_uri": "https://localhost:8080/",
          "height": 740
        },
        "id": "0gkvw5lAdFRU",
        "outputId": "78019af8-6b9a-408f-92ff-3cf93b06e191"
      },
      "outputs": [
        {
          "output_type": "stream",
          "name": "stdout",
          "text": [
            "\n",
            "=========================================================\n",
            "Program ini akan menyelesaikan data - data yang kita punya \n",
            "             dengan metode Regresi Linear\n",
            "=========================================================\n",
            "\n",
            "Nilai gradien yang didapatkan adalah (a) 0.9867\n",
            "Nilai Intersep yang didapatkan adalah (b) 0.3667\n",
            "\n",
            "yrata2 = 160.700\n",
            "xrata2 = 162.500\n",
            "Xmax = 250 , Ymax = 247.033\n",
            "Xmin = 75 , Ymin = 74.367\n",
            "\n",
            "   Massa  Volume  Volume^2    M x V\n",
            "0   76.2      75      5625   5715.0\n",
            "1   97.7     100     10000   9770.0\n",
            "2  121.7     125     15625  15212.5\n",
            "3  148.2     150     22500  22230.0\n",
            "4  173.7     175     30625  30397.5\n",
            "5  199.2     200     40000  39840.0\n",
            "6  223.2     225     50625  50220.0\n",
            "7  245.7     250     62500  61425.0\n",
            "--------------------------------------------------\n",
            "   1300     1285.6   237500  234810  <==== JUMLAH\n",
            "\n"
          ]
        },
        {
          "output_type": "display_data",
          "data": {
            "text/plain": [
              "<Figure size 432x288 with 1 Axes>"
            ],
            "image/png": "[encoded data removed]"
          },
          "metadata": {
            "needs_background": "light"
          }
        }
      ],
      "source": [
        "import numpy as np \n",
        "import pandas as pd\n",
        "import matplotlib.pyplot as plt \n",
        "\n",
        "print(f'''\n",
        "{'='*57}\n",
        "Program ini akan menyelesaikan data - data yang kita punya \n",
        "             dengan metode Regresi Linear\n",
        "{'='*57 }\n",
        "''')\n",
        "\n",
        "m = np.array([76.2,97.7,121.7,148.2,173.7,199.2,223.2,245.7])\n",
        "V = np.array([75,100,125,150,175,200,225,250])\n",
        "\n",
        "n = len(V)\n",
        "a = ((n*sum(V*m))-(sum(V)*sum(m))) / ((n*sum(V**2))-(sum(V)**2))\n",
        "print(f'Nilai gradien yang didapatkan adalah (a) {a:.4f}')\n",
        "\n",
        "b = (sum(m)/n) - a*(sum(V)/n)\n",
        "print(f'Nilai Intersep yang didapatkan adalah (b) {b:.4f}')\n",
        "data = {\n",
        "    'Massa':m,\n",
        "    'Volume':V,\n",
        "    'Volume^2':V**2,\n",
        "    'M x V':V*m\n",
        "}\n",
        "print(f'''\n",
        "yrata2 = {(sum(m)/n):.3f}\n",
        "xrata2 = {(sum(V)/n):.3f}\n",
        "Xmax = {max(V)} , Ymax = {a*max(V)+b:.3f}\n",
        "Xmin = {min(V)} , Ymin = {a*min(V)+b:.3f}\\n''')\n",
        "\n",
        "df = pd.DataFrame(data)\n",
        "print(df)\n",
        "print('-'*50)\n",
        "print(f'{sum(V):7}{sum(m):11.1f}{sum(V**2):9.0f}{sum(V*m):8.0f}  <==== JUMLAH\\n')\n",
        "\n",
        "for i in range (n):\n",
        "  y = a*V + b\n",
        "\n",
        "plt.scatter(V,m)\n",
        "\n",
        "plt.plot(V,y,'r')\n",
        "plt.legend([f'y = {a:.3f}x + {b:.3f}'])\n",
        "\n",
        "plt.grid()\n",
        "plt.show()\n",
        "\n"
      ]
    }
  ]
}