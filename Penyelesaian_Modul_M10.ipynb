{
  "nbformat": 4,
  "nbformat_minor": 0,
  "metadata": {
    "colab": {
      "provenance": [],
      "authorship_tag": "ABX9TyNgdRxc3sWR7IMTxmSImoRE",
      "include_colab_link": true
    },
    "kernelspec": {
      "name": "python3",
      "display_name": "Python 3"
    },
    "language_info": {
      "name": "python"
    }
  },
  "cells": [
    {
      "cell_type": "markdown",
      "metadata": {
        "id": "view-in-github",
        "colab_type": "text"
      },
      "source": [
        "<a href=\"https://colab.research.google.com/github/Frhan21/Praktikum-Labdas-Program/blob/main/Penyelesaian_Modul_M10.ipynb\" target=\"_parent\"><img src=\"https://colab.research.google.com/assets/colab-badge.svg\" alt=\"Open In Colab\"/></a>"
      ]
    },
    {
      "cell_type": "code",
      "execution_count": 102,
      "metadata": {
        "id": "-_Yfyy-STiTK"
      },
      "outputs": [],
      "source": [
        "# Modul 10 \n",
        "# Menentukan Viskositas Zat Cair \n",
        "\n",
        "import numpy as np \n",
        "import pandas as pd\n",
        "import matplotlib.pyplot as plt \n",
        "\n",
        "\n",
        "\n",
        "global t1,r1,t2,r2,slope\n",
        "L = 70\n",
        "rhoB = 2.7\n",
        "rhoG = 1.26\n",
        "rhoM = 0.96\n",
        "\n",
        "# Data Gliserin \n",
        "r1 = np.array([.4695,.5725,.63,.22,.91,.9245,.98,1.02])\n",
        "t1 = np.array([2.44,2.12,2.12,1.94,2.03,2.03,2.00,2.13])\n",
        "\n",
        "# Data Minyak Goreng \n",
        "r2 = np.array([.4695,.5725,.63,.77,.91,.9245,.98,1.02])\n",
        "t2 = np.array([.75,.72,.66,.53,.46,.66,.54,.63])\n",
        "\n"
      ]
    },
    {
      "cell_type": "code",
      "source": [
        "\n",
        "def slope(n,t,r):\n",
        "  a = (n*sum((1/t)*(r**2)) - sum(1/t)*sum(r**2))/(n*sum((1/t)**2) - (sum(1/t))**2 )\n",
        "  return a\n",
        "\n",
        "def intercept (n,t,r,a):\n",
        "  b = (sum(r**2)/n) - a*(sum(1/t)/n)\n",
        "  return b \n",
        "\n",
        "pd.set_option('display.float_format', lambda x: '%.4f' % x)\n",
        "print('-'*40)\n",
        "print(f'            1.Data Gliserin')\n",
        "print('-'*40)\n",
        "\n",
        "data = {\n",
        "    '1/t':(1/t1),\n",
        "    'r^2':r1**2,\n",
        "    '(r^2)^2':r1**4,\n",
        "    'r^2*(1/t)':(r1**2)*(1/t1)\n",
        "}\n",
        "\n",
        "df = pd.DataFrame(data)\n",
        "print(f'     {\"X\":7s}{\"Y\":7s}{\"X^2\":10s}{\"XY\":7s}\\n{\"-\"*40}')\n",
        "print(df)\n",
        "\n",
        "print(f'''{'='*40}\n",
        "{sum(1/t1):7.3f}{sum(r1**2):7.3f}{sum(r1**4):9.3f}{sum((r1**2)*(1/t1)):9.3f} == Jumlah''')\n",
        "print('-'*40)\n",
        "\n",
        "\n",
        "n = len(t1)\n",
        "a = slope(n,t1,r1)\n",
        "b = intercept(n,t1,r1,a) \n",
        "ymax = a*max((1/t1)) + b\n",
        "ymin = a*min((1/t1)) + b\n",
        "Visko_teori = 1.5\n",
        "relatif = (abs(a - Visko_teori)/Visko_teori)*100 \n",
        "\n",
        "print(f'''Gradien  = {a:.3f}\n",
        "Intersep = {b:.3f}\n",
        "Persamaan garis kita menjadi Y = {a:.3f}X + {b:.3f}\n",
        "Xrata = {sum(1/t1)/n:.3f}\n",
        "Yrata = {sum(r1**2)/n:.3f}\n",
        "(Xmax,Ymax) = ({max(1/t1):.3f},{ymax:.3f})\n",
        "(Xmin,Ymin) = ({min(1/t1):.3f},{ymin:.3f})\n",
        "Viskositas       = {a:.3f} gr/cm.s\n",
        "Viskositas Teori = {Visko_teori} gr/cm.s\n",
        "% Kesalahan      = {relatif:.3f} %\n",
        "{'='*40}''')\n",
        "\n",
        "\n",
        "plt.plot((1/t1),(r1**2),'o')\n",
        "plt.grid()\n",
        "plt.title('Grafik Data Percobaan',)\n",
        "y = a*(1/t1) + b\n",
        "plt.plot(1/t1,y)\n",
        "plt.legend(['t-r',f'y = {a:.4f}x + {b:.3f}'])\n",
        "\n",
        "plt.show()"
      ],
      "metadata": {
        "colab": {
          "base_uri": "https://localhost:8080/",
          "height": 792
        },
        "id": "AdofWQyuXEFg",
        "outputId": "812ff8f5-12f8-489a-efcf-760c129056ea"
      },
      "execution_count": 147,
      "outputs": [
        {
          "output_type": "stream",
          "name": "stdout",
          "text": [
            "----------------------------------------\n",
            "            1.Data Gliserin\n",
            "----------------------------------------\n",
            "     X      Y      X^2       XY     \n",
            "----------------------------------------\n",
            "    1/t    r^2   (r^2)^2  r^2*(1/t)\n",
            "0 0.4098 0.2204  0.0486    0.0903  \n",
            "1 0.4717 0.3278  0.1074    0.1546  \n",
            "2 0.4717 0.3969  0.1575    0.1872  \n",
            "3 0.5155 0.0484  0.0023    0.0249  \n",
            "4 0.4926 0.8281  0.6857    0.4079  \n",
            "5 0.4926 0.8547  0.7305    0.4210  \n",
            "6 0.5000 0.9604  0.9224    0.4802  \n",
            "7 0.4695 1.0404  1.0824    0.4885  \n",
            "========================================\n",
            "  3.823  4.677    3.737    2.255 == Jumlah\n",
            "----------------------------------------\n",
            "Gradien  = 2.731\n",
            "Intersep = -0.721\n",
            "Persamaan garis kita menjadi Y = 2.731X + -0.721\n",
            "Xrata = 0.478\n",
            "Yrata = 0.585\n",
            "(Xmax,Ymax) = (0.515,0.687)\n",
            "(Xmin,Ymin) = (0.410,0.399)\n",
            "Viskositas       = 2.731 gr/cm.s\n",
            "Viskositas Teori = 1.5 gr/cm.s\n",
            "% Kesalahan      = 82.082 %\n",
            "========================================\n"
          ]
        },
        {
          "output_type": "display_data",
          "data": {
            "text/plain": [
              "<Figure size 432x288 with 1 Axes>"
            ],
            "image/png": "[encoded data removed]"
          },
          "metadata": {
            "needs_background": "light"
          }
        }
      ]
    },
    {
      "cell_type": "code",
      "source": [
        "pd.set_option('display.float_format', lambda x: '%.4f' % x)\n",
        "print('-'*40)\n",
        "print(f'         2.Data Minyak Goreng')\n",
        "print('-'*40)\n",
        "# Plot Ke tabel \n",
        "data = {\n",
        "    '1/t':(1/t2),\n",
        "    'r^2':r2**2,\n",
        "    '(1/t)^2':(1/t2)**2,\n",
        "    'r^2*(1/t)':(r2**2)*(1/t2)\n",
        "}\n",
        "\n",
        "df = pd.DataFrame(data)\n",
        "print(f'     {\"X\":7s}{\"Y\":7s}{\"X^2\":10s}{\"XY\":7s}\\n{\"-\"*40}')\n",
        "print(df)\n",
        "\n",
        "print(f'''{'='*40}\n",
        "{sum(1/t2):7.3f}{sum(r2**2):7.3f}{sum((1/t2)**2):9.3f}{sum((r2**2)*(1/t2)):9.3f} == Jumlah''')\n",
        "print('-'*40)\n",
        "\n",
        "\n",
        "n = len(t2)\n",
        "a = slope(n,t2,r2)\n",
        "b = intercept(n,t2,r2,a) \n",
        "ymax = a*max((1/t2)) + b\n",
        "ymin = a*min((1/t2)) + b\n",
        "Visko_teori = 0.694\n",
        "relatif = (abs(a - Visko_teori)/Visko_teori)*100 \n",
        "\n",
        "print(f'''Gradien  = {a:.3f}\n",
        "Intersep = {b:.3f}\n",
        "Persamaan garis kita menjadi Y = {a:.3f}X + {b:.3f}\n",
        "Xrata = {sum(1/t2)/n:.3f}\n",
        "Yrata = {sum(r2**2)/n:.3f}\n",
        "(Xmax,Ymax) = ({max(1/t2):.3f},{ymax:.3f})\n",
        "(Xmin,Ymin) = ({min(1/t2):.3f},{ymin:.3f})\n",
        "\n",
        "Viskositas       = {abs(a):.3f} gr/cm.s\n",
        "Viskositas Teori = {Visko_teori} gr/cm.s\n",
        "% Kesalahan      = {relatif:.3f} %\n",
        "{'='*40}''')\n",
        "\n",
        "# Plot Grafik Data\n",
        "plt.plot((1/t2),(r2**2),'o')\n",
        "plt.grid()\n",
        "plt.title('Grafik Data Percobaan',)\n",
        "y = a*(1/t2) + b\n",
        "plt.plot(1/t2,y,'-o')\n",
        "plt.legend(['t-r',f'y = {a:.4f}x + {b:.3f}'])\n",
        "plt.show()"
      ],
      "metadata": {
        "colab": {
          "base_uri": "https://localhost:8080/",
          "height": 811
        },
        "id": "oZ68nf9jepAD",
        "outputId": "2b810289-b2ee-4baa-a113-2f8eedd728f7"
      },
      "execution_count": 146,
      "outputs": [
        {
          "output_type": "stream",
          "name": "stdout",
          "text": [
            "----------------------------------------\n",
            "         2.Data Minyak Goreng\n",
            "----------------------------------------\n",
            "     X      Y      X^2       XY     \n",
            "----------------------------------------\n",
            "    1/t    r^2   (1/t)^2  r^2*(1/t)\n",
            "0 1.3333 0.2204  1.7778    0.2939  \n",
            "1 1.3889 0.3278  1.9290    0.4552  \n",
            "2 1.5152 0.3969  2.2957    0.6014  \n",
            "3 1.8868 0.5929  3.5600    1.1187  \n",
            "4 2.1739 0.8281  4.7259    1.8002  \n",
            "5 1.5152 0.8547  2.2957    1.2950  \n",
            "6 1.8519 0.9604  3.4294    1.7785  \n",
            "7 1.5873 1.0404  2.5195    1.6514  \n",
            "========================================\n",
            " 13.252  5.222   22.533    8.994 == Jumlah\n",
            "----------------------------------------\n",
            "Gradien  = 0.594\n",
            "Intersep = -0.332\n",
            "Persamaan garis kita menjadi Y = 0.594X + -0.332\n",
            "Xrata = 1.657\n",
            "Yrata = 0.653\n",
            "(Xmax,Ymax) = (2.174,0.960)\n",
            "(Xmin,Ymin) = (1.333,0.461)\n",
            "\n",
            "Viskositas       = 0.594 gr/cm.s\n",
            "Viskositas Teori = 0.694 gr/cm.s\n",
            "% Kesalahan      = 14.366 %\n",
            "========================================\n"
          ]
        },
        {
          "output_type": "display_data",
          "data": {
            "text/plain": [
              "<Figure size 432x288 with 1 Axes>"
            ],
            "image/png": "[encoded data removed]"
          },
          "metadata": {
            "needs_background": "light"
          }
        }
      ]
    }
  ]
}