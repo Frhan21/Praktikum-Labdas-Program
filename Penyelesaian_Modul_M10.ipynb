{
  "nbformat": 4,
  "nbformat_minor": 0,
  "metadata": {
    "colab": {
      "provenance": [],
      "authorship_tag": "ABX9TyNc1wrkePeMBySstcL0tJO9",
      "include_colab_link": true
    },
    "kernelspec": {
      "name": "python3",
      "display_name": "Python 3"
    },
    "language_info": {
      "name": "python"
    }
  },
  "cells": [
    {
      "cell_type": "markdown",
      "metadata": {
        "id": "view-in-github",
        "colab_type": "text"
      },
      "source": [
        "<a href=\"https://colab.research.google.com/github/Frhan21/Praktikum-Labdas-Program/blob/main/Penyelesaian_Modul_M10.ipynb\" target=\"_parent\"><img src=\"https://colab.research.google.com/assets/colab-badge.svg\" alt=\"Open In Colab\"/></a>"
      ]
    },
    {
      "cell_type": "code",
      "execution_count": 4,
      "metadata": {
        "id": "-_Yfyy-STiTK"
      },
      "outputs": [],
      "source": [
        "# Modul 10 \n",
        "# Menentukan Viskositas Zat Cair \n",
        "\n",
        "import numpy as np \n",
        "import pandas as pd\n",
        "import matplotlib.pyplot as plt\n",
        "\n",
        "global t1,r1,t2,r2,slope\n",
        "\n",
        "def slope(n,t,r):\n",
        "  a = (n*sum((1/t)*(r**2)) - sum(1/t)*sum(r**2))/(n*sum((1/t)**2) - (sum(1/t))**2 )\n",
        "  return a\n",
        "\n",
        "def intercept (n,t,r,a):\n",
        "  b = (sum(r**2)/n) - a*(sum(1/t)/n)\n",
        "  return b \n",
        "L = 70\n",
        "rhoB = 2.7\n",
        "rhoG = 1.76\n",
        "rhoM = 0.92\n",
        "\n",
        "# Data Gliserin \n",
        "r1 = np.array([.4695,.5725,.63,.77,.91,.9245,.98,1.02])\n",
        "t1 = np.array([2.44,2.12,2.12,1.94,2.03,2.03,2.00,2.13])\n",
        "\n",
        "# Data Minyak Goreng \n",
        "r2 = np.array([.4695,.5725,.63,.77,.91,.9245,.98,1.02])\n",
        "t2 = np.array([.75,.72,.66,.53,.46,.66,.54,.63])\n",
        "\n"
      ]
    },
    {
      "cell_type": "code",
      "source": [
        "global t1 \n",
        "pd.set_option('display.float_format', lambda x: '%.3f' % x)\n",
        "print('-'*40)\n",
        "print(f'            1.Data Gliserin')\n",
        "print('-'*40)\n",
        "\n",
        "data = {\n",
        "    '1/t':(1/t1),\n",
        "    'r^2':r1**2,\n",
        "    '(1/t)^2':(1/t1)**2,\n",
        "    'r^2*(1/t)':(r1**2)*(1/t1)\n",
        "}\n",
        "n = len(t1)\n",
        "index=[]\n",
        "for i in range (1,n+1):\n",
        "  index.append(i)\n",
        "df = pd.DataFrame(data)\n",
        "print(f'     {\"X\":7s}{\"Y\":7s}{\"X^2\":10s}{\"XY\":7s}\\n{\"-\"*40}')\n",
        "print(df)\n",
        "\n",
        "print(f'''{'='*40}\n",
        "{sum(1/t1):7.3f}{sum(r1**2):7.3f}{sum((1/t1)**2):9.3f}{sum((r1**2)*(1/t1)):9.3f} == Jumlah''')\n",
        "print('-'*40)\n",
        "\n",
        "\n",
        "n = len(t1)\n",
        "a = slope(n,t1,r1)\n",
        "b = intercept(n,t1,r1,a) \n",
        "ymax = a*max((1/t1)) + b\n",
        "ymin = a*min((1/t1)) + b\n",
        "Visko_prk = (2*a*(rhoB-rhoG)*981)/(9*L)\n",
        "Visko_teori = 1.5\n",
        "relatif = (abs(Visko_prk - Visko_teori)/Visko_teori)*100 \n",
        "\n",
        "print(f'''Gradien  = {a:.3f}\n",
        "Intersep = {b:.3f}\n",
        "Persamaan garis kita menjadi Y = {a:.3f}X + {b:.3f}\n",
        "Xrata = {sum(1/t1)/n:.3f}\n",
        "Yrata = {sum(r1**2)/n:.3f}\n",
        "(Xmax,Ymax) = ({max(1/t1):.3f},{ymax:.3f})\n",
        "(Xmin,Ymin) = ({min(1/t1):.3f},{ymin:.3f})\n",
        "Viskositas       = {Visko_prk:.3f} gr/cm.s\n",
        "Viskositas Teori = {Visko_teori} gr/cm.s\n",
        "% Kesalahan      = {relatif:.3f} %\n",
        "{'='*40}''')\n",
        "\n",
        "\n",
        "plt.plot((1/t1),(r1**2),'o')\n",
        "plt.grid()\n",
        "plt.title('Grafik Data Percobaan',)\n",
        "y = a*(1/t1) + b\n",
        "plt.plot(1/t1,y)\n",
        "plt.legend(['1/t - r^2',f'y = {a:.4f}x + {b:.3f}'])\n",
        "\n",
        "plt.show()"
      ],
      "metadata": {
        "colab": {
          "base_uri": "https://localhost:8080/",
          "height": 767
        },
        "id": "AdofWQyuXEFg",
        "outputId": "e015f0d9-1d74-4f8b-aa30-4fd5454bbbd3"
      },
      "execution_count": 5,
      "outputs": [
        {
          "output_type": "stream",
          "name": "stdout",
          "text": [
            "----------------------------------------\n",
            "            1.Data Gliserin\n",
            "----------------------------------------\n",
            "     X      Y      X^2       XY     \n",
            "----------------------------------------\n",
            "    1/t   r^2  (1/t)^2  r^2*(1/t)\n",
            "0 0.410 0.220    0.168      0.090\n",
            "1 0.472 0.328    0.222      0.155\n",
            "2 0.472 0.397    0.222      0.187\n",
            "3 0.515 0.593    0.266      0.306\n",
            "4 0.493 0.828    0.243      0.408\n",
            "5 0.493 0.855    0.243      0.421\n",
            "6 0.500 0.960    0.250      0.480\n",
            "7 0.469 1.040    0.220      0.488\n",
            "========================================\n",
            "  3.823  5.222    1.834    2.535 == Jumlah\n",
            "----------------------------------------\n",
            "Gradien  = 5.605\n",
            "Intersep = -2.026\n",
            "Persamaan garis kita menjadi Y = 5.605X + -2.026\n",
            "Xrata = 0.478\n",
            "Yrata = 0.653\n",
            "(Xmax,Ymax) = (0.515,0.863)\n",
            "(Xmin,Ymin) = (0.410,0.271)\n",
            "Viskositas       = 16.408 gr/cm.s\n",
            "Viskositas Teori = 1.5 gr/cm.s\n",
            "% Kesalahan      = 993.869 %\n",
            "========================================\n"
          ]
        },
        {
          "output_type": "display_data",
          "data": {
            "text/plain": [
              "<Figure size 432x288 with 1 Axes>"
            ],
            "image/png": "[encoded data removed]"
          },
          "metadata": {
            "needs_background": "light"
          }
        }
      ]
    },
    {
      "cell_type": "code",
      "source": [
        "pd.set_option('display.float_format', lambda x: '%.4f' % x)\n",
        "print('-'*40)\n",
        "print(f'         2.Data Minyak Goreng')\n",
        "print('-'*40)\n",
        "# Plot Ke tabel \n",
        "data = {\n",
        "    '1/t':(1/t2),\n",
        "    'r^2':r2**2,\n",
        "    '(1/t)^2':(1/t2)**2,\n",
        "    'r^2*(1/t)':(r2**2)*(1/t2)\n",
        "}\n",
        "\n",
        "n = len(t2)\n",
        "index=[]\n",
        "for i in range (1,n+1):\n",
        "  index.append(i)\n",
        "df = pd.DataFrame(data,index)\n",
        "print(f'     {\"X\":7s}{\"Y\":7s}{\"X^2\":10s}{\"XY\":7s}\\n{\"-\"*40}')\n",
        "print(df)\n",
        "\n",
        "print(f'''{'='*40}\n",
        "{sum(1/t2):7.3f}{sum(r2**2):7.3f}{sum((1/t2)**2):9.3f}{sum((r2**2)*(1/t2)):9.3f} == Jumlah''')\n",
        "print('-'*40)\n",
        "\n",
        "\n",
        "\n",
        "a = slope(n,t2,r2)\n",
        "b = intercept(n,t2,r2,a) \n",
        "ymax = a*max((1/t2)) + b\n",
        "ymin = a*min((1/t2)) + b\n",
        "Visko_prk = (2*a*(rhoB-rhoM)*981)/(9*L)\n",
        "Visko_teori = 0.694\n",
        "relatif = (abs(Visko_prk - Visko_teori)/Visko_teori)*100 \n",
        "\n",
        "print(f'''Gradien  = {a:.3f}\n",
        "Intersep = {b:.3f}\n",
        "Persamaan garis kita menjadi Y = {a:.3f}X + {b:.3f}\n",
        "Xrata = {sum(1/t2)/n:.3f}\n",
        "Yrata = {sum(r2**2)/n:.3f}\n",
        "(Xmax,Ymax) = ({max(1/t2):.3f},{ymax:.3f})\n",
        "(Xmin,Ymin) = ({min(1/t2):.3f},{ymin:.3f})\n",
        "\n",
        "Viskositas       = {Visko_prk:.3f} gr/cm.s\n",
        "Viskositas Teori = {Visko_teori} gr/cm.s\n",
        "% Kesalahan      = {relatif:.3f} %\n",
        "{'='*40}''')\n",
        "\n",
        "# Plot Grafik Data\n",
        "plt.plot((1/t2),(r2**2),'o')\n",
        "plt.grid()\n",
        "plt.title('Grafik Data Percobaan',)\n",
        "y = a*(1/t2) + b\n",
        "plt.plot(1/t2,y,'-')\n",
        "plt.legend(['t-r',f'y = {a:.4f}x + {b:.3f}'])\n",
        "plt.show()"
      ],
      "metadata": {
        "colab": {
          "base_uri": "https://localhost:8080/",
          "height": 784
        },
        "id": "oZ68nf9jepAD",
        "outputId": "b1c8b7f0-c87a-4118-ad69-0dd4998aebff"
      },
      "execution_count": 6,
      "outputs": [
        {
          "output_type": "stream",
          "name": "stdout",
          "text": [
            "----------------------------------------\n",
            "         2.Data Minyak Goreng\n",
            "----------------------------------------\n",
            "     X      Y      X^2       XY     \n",
            "----------------------------------------\n",
            "     1/t    r^2  (1/t)^2  r^2*(1/t)\n",
            "1 1.3333 0.2204   1.7778     0.2939\n",
            "2 1.3889 0.3278   1.9290     0.4552\n",
            "3 1.5152 0.3969   2.2957     0.6014\n",
            "4 1.8868 0.5929   3.5600     1.1187\n",
            "5 2.1739 0.8281   4.7259     1.8002\n",
            "6 1.5152 0.8547   2.2957     1.2950\n",
            "7 1.8519 0.9604   3.4294     1.7785\n",
            "8 1.5873 1.0404   2.5195     1.6514\n",
            "========================================\n",
            " 13.252  5.222   22.533    8.994 == Jumlah\n",
            "----------------------------------------\n",
            "Gradien  = 0.594\n",
            "Intersep = -0.332\n",
            "Persamaan garis kita menjadi Y = 0.594X + -0.332\n",
            "Xrata = 1.657\n",
            "Yrata = 0.653\n",
            "(Xmax,Ymax) = (2.174,0.960)\n",
            "(Xmin,Ymin) = (1.333,0.461)\n",
            "\n",
            "Viskositas       = 3.294 gr/cm.s\n",
            "Viskositas Teori = 0.694 gr/cm.s\n",
            "% Kesalahan      = 374.705 %\n",
            "========================================\n"
          ]
        },
        {
          "output_type": "display_data",
          "data": {
            "text/plain": [
              "<Figure size 432x288 with 1 Axes>"
            ],
            "image/png": "[encoded data removed]"
          },
          "metadata": {
            "needs_background": "light"
          }
        }
      ]
    }
  ]
}