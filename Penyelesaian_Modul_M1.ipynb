{
  "cells": [
    {
      "cell_type": "markdown",
      "metadata": {
        "id": "view-in-github",
        "colab_type": "text"
      },
      "source": [
        "<a href=\"https://colab.research.google.com/github/Frhan21/Praktikum-Labdas-Program/blob/main/Penyelesaian_Modul_M1.ipynb\" target=\"_parent\"><img src=\"https://colab.research.google.com/assets/colab-badge.svg\" alt=\"Open In Colab\"/></a>"
      ]
    },
    {
      "cell_type": "code",
      "execution_count": 1,
      "metadata": {
        "colab": {
          "base_uri": "https://localhost:8080/",
          "height": 740
        },
        "id": "0gkvw5lAdFRU",
        "outputId": "64d21228-eab1-4698-bf1f-34ab9235390e"
      },
      "outputs": [
        {
          "output_type": "stream",
          "name": "stdout",
          "text": [
            "\n",
            "=========================================================\n",
            "Program ini akan menyelesaikan data - data yang kita punya \n",
            "             dengan metode Regresi Linear\n",
            "=========================================================\n",
            "\n",
            "Nilai gradien yang didapatkan adalah (a) 1.0383\n",
            "Nilai Intersep yang didapatkan adalah (b) -4.2917\n",
            "\n",
            "yrata2 = 164.438\n",
            "xrata2 = 162.500\n",
            "Xmax = 250 , Ymax = 255.292\n",
            "Xmin = 75 , Ymin = 73.583\n",
            "\n",
            "   Massa  Volume  Volume^2    M x V\n",
            "0   70.0      75      5625   5250.0\n",
            "1  107.0     100     10000  10700.0\n",
            "2  122.5     125     15625  15312.5\n",
            "3  148.5     150     22500  22275.0\n",
            "4  180.0     175     30625  31500.0\n",
            "5  203.5     200     40000  40700.0\n",
            "6  228.5     225     50625  51412.5\n",
            "7  255.5     250     62500  63875.0\n",
            "--------------------------------------------------\n",
            "   1300     1315.5   237500  241025  <==== JUMLAH\n",
            "\n"
          ]
        },
        {
          "output_type": "display_data",
          "data": {
            "text/plain": [
              "<Figure size 432x288 with 1 Axes>"
            ],
            "image/png": "[encoded data removed]"
          },
          "metadata": {
            "needs_background": "light"
          }
        }
      ],
      "source": [
        "import numpy as np \n",
        "import pandas as pd\n",
        "import matplotlib.pyplot as plt \n",
        "\n",
        "print(f'''\n",
        "{'='*57}\n",
        "Program ini akan menyelesaikan data - data yang kita punya \n",
        "             dengan metode Regresi Linear\n",
        "{'='*57 }\n",
        "''')\n",
        "\n",
        "m = np.array([70,107,122.5,148.5,180,203.5,228.5,255.5])\n",
        "V = np.array([75,100,125,150,175,200,225,250])\n",
        "\n",
        "n = len(V)\n",
        "a = ((n*sum(V*m))-(sum(V)*sum(m))) / ((n*sum(V**2))-(sum(V)**2))\n",
        "print(f'Nilai gradien yang didapatkan adalah (a) {a:.4f}')\n",
        "\n",
        "b = (sum(m)/n) - a*(sum(V)/n)\n",
        "print(f'Nilai Intersep yang didapatkan adalah (b) {b:.4f}')\n",
        "data = {\n",
        "    'Massa':m,\n",
        "    'Volume':V,\n",
        "    'Volume^2':V**2,\n",
        "    'M x V':V*m\n",
        "}\n",
        "print(f'''\n",
        "yrata2 = {(sum(m)/n):.3f}\n",
        "xrata2 = {(sum(V)/n):.3f}\n",
        "Xmax = {max(V)} , Ymax = {a*max(V)+b:.3f}\n",
        "Xmin = {min(V)} , Ymin = {a*min(V)+b:.3f}\\n''')\n",
        "\n",
        "df = pd.DataFrame(data)\n",
        "print(df)\n",
        "print('-'*50)\n",
        "print(f'{sum(V):7}{sum(m):11.1f}{sum(V**2):9.0f}{sum(V*m):8.0f}  <==== JUMLAH\\n')\n",
        "\n",
        "for i in range (n):\n",
        "  y = a*V + b\n",
        "\n",
        "plt.scatter(V,m)\n",
        "\n",
        "plt.plot(V,y,'r')\n",
        "plt.legend([f'y = {a:.3f}x + {b:.3f}'])\n",
        "\n",
        "plt.grid()\n",
        "plt.show()\n",
        "\n"
      ]
    },
    {
      "cell_type": "code",
      "execution_count": null,
      "metadata": {
        "colab": {
          "base_uri": "https://localhost:8080/"
        },
        "id": "YHwDI_HaeWlG",
        "outputId": "ce27bbba-c112-4ff9-82b6-600f45f85b50"
      },
      "outputs": [
        {
          "name": "stdout",
          "output_type": "stream",
          "text": [
            "\n",
            "=========================================================\n",
            "Program ini akan menyelesaikan data - data dari \n",
            "         Percobaan Gerak Benda Menggelinding \n",
            "=========================================================\n",
            "--------------------------------------------------\n",
            "1. Percobaan Momen Inersia Silinder Pejal\n",
            "--------------------------------------------------\n",
            "   teta  sin teta  Percepatan  Momen Iner\n",
            "0     5 -0.559652       0.573   -0.008476\n",
            "1    10  0.927598       1.107    0.005782\n",
            "2    15 -0.977801       1.786   -0.005103\n",
            "3    20  0.693062       2.213    0.001659\n",
            "4    25 -0.170919       2.446   -0.001351\n",
            "5    30 -0.409772       2.976   -0.001884\n"
          ]
        }
      ],
      "source": [
        "import numpy as np \n",
        "import pandas as pd\n",
        "import matplotlib.pyplot as plt \n",
        "\n",
        "print(f'''\n",
        "{'='*57}\n",
        "Program ini akan menyelesaikan data - data dari \n",
        "         Percobaan Gerak Benda Menggelinding \n",
        "{'='*57 }''')\n",
        "\n",
        "print(f'''{'-'*50}\n",
        "1. Percobaan Momen Inersia Silinder Pejal\n",
        "{'-'*50}''')\n",
        "\n",
        "# Data dari Silinder\n",
        "m = 0.5011\n",
        "d = 0.08\n",
        "r = d/2\n",
        "g = 9.8\n",
        "\n",
        "# Data Praktikum\n",
        "teta = np.array([5,10,15,20,25,30])\n",
        "a = np.array([0.573,1.107,1.786,2.213,2.446,2.976])\n",
        "sinteta = np.sin(np.degrees(teta))\n",
        "\n",
        "I = (m*(r**2)/a)*(g*np.sin(np.degrees(teta))-a)\n",
        "\n",
        "data = {\n",
        "    'teta':teta,\n",
        "    'sin teta':sinteta,\n",
        "    'Percepatan':a,\n",
        "    'Momen Iner':I\n",
        "}\n",
        "\n",
        "df = pd.DataFrame(data)\n",
        "print(df)\n"
      ]
    },
    {
      "cell_type": "code",
      "execution_count": null,
      "metadata": {
        "colab": {
          "background_save": true,
          "base_uri": "https://localhost:8080/"
        },
        "id": "ZSRa7aj_7ksm",
        "outputId": "1bdbd2aa-2115-4cac-9f10-f8125c128c89"
      },
      "outputs": [
        {
          "name": "stdout",
          "output_type": "stream",
          "text": [
            "-0.5440211108893698\n",
            "0.9275984563424636\n"
          ]
        }
      ],
      "source": [
        "import numpy as np \n",
        "\n",
        "a = np.sin(10)\n",
        "b = np.sin(np.degrees(5))\n",
        "print(a)\n",
        "print(b)\n"
      ]
    }
  ],
  "metadata": {
    "colab": {
      "provenance": [],
      "authorship_tag": "ABX9TyNYGvd6cTsZGZaQukPRTN6F",
      "include_colab_link": true
    },
    "kernelspec": {
      "display_name": "Python 3",
      "name": "python3"
    },
    "language_info": {
      "name": "python"
    }
  },
  "nbformat": 4,
  "nbformat_minor": 0
}